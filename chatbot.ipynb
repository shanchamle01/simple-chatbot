{
 "cells": [
  {
   "cell_type": "code",
   "execution_count": null,
   "id": "ace2766e-842e-4600-a7d4-8816403a049d",
   "metadata": {},
   "outputs": [
    {
     "name": "stderr",
     "output_type": "stream",
     "text": [
      "[nltk_data] Downloading package punkt to C:\\Users\\Shantisagar\n",
      "[nltk_data]     Chamle\\AppData\\Roaming\\nltk_data...\n",
      "[nltk_data]   Package punkt is already up-to-date!\n"
     ]
    },
    {
     "name": "stdout",
     "output_type": "stream",
     "text": [
      "ChatBot: Hi there! I'm your chatbot friend. How can I assist you today?\n"
     ]
    }
   ],
   "source": [
    "import nltk\n",
    "import re\n",
    "import random\n",
    "\n",
    "\n",
    "nltk.download('punkt')\n",
    "\n",
    "# Define patterns and responses\n",
    "patterns = [\n",
    "    (r'hi|hello|hey', ['Hello!', 'Hi there!', 'Hey!']),\n",
    "    (r'how are you', [\"I'm  a bot, but I'm here to help u!\", \"I'm doing well, thank you!\"]),\n",
    "    (r'what is your name', [\"I'm ChatBot, your friendly assistant.\", \"Call me ChatBot.\"]),\n",
    "    (r'bye|see you', [\"see you! Have a great day!\", \"Farewell!\"]),\n",
    "    (r'(.*)', [\"I'm sorry, I don't quite understand.\", \"Could you please describe?\"])\n",
    "]\n",
    "\n",
    "def chatbot_response(user_input):\n",
    "    for pattern, responses in patterns:\n",
    "        if re.match(pattern, user_input):\n",
    "            return random.choice(responses)\n",
    "\n",
    "def main():\n",
    "    print(\"ChatBot: Hi there! I'm your chatbot friend. How can I assist you today?\")\n",
    "    \n",
    "    while True:\n",
    "        user_input = input(\"You: \").lower()\n",
    "        \n",
    "        if user_input == \"exit\":\n",
    "            print(\"ChatBot: Goodbye!\")\n",
    "            break\n",
    "        \n",
    "        response = chatbot_response(user_input)\n",
    "        print(\"ChatBot:\", response)\n",
    "\n",
    "if __name__ == \"__main__\":\n",
    "    main()\n"
   ]
  },
  {
   "cell_type": "code",
   "execution_count": null,
   "id": "7359637c-d448-435b-8d8e-0ef2aeaab889",
   "metadata": {},
   "outputs": [],
   "source": []
  }
 ],
 "metadata": {
  "kernelspec": {
   "display_name": "Python 3 (ipykernel)",
   "language": "python",
   "name": "python3"
  },
  "language_info": {
   "codemirror_mode": {
    "name": "ipython",
    "version": 3
   },
   "file_extension": ".py",
   "mimetype": "text/x-python",
   "name": "python",
   "nbconvert_exporter": "python",
   "pygments_lexer": "ipython3",
   "version": "3.11.4"
  }
 },
 "nbformat": 4,
 "nbformat_minor": 5
}
